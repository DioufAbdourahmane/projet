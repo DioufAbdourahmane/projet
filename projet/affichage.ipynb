{
 "cells": [
  {
   "cell_type": "code",
   "execution_count": 8,
   "metadata": {
    "scrolled": false
   },
   "outputs": [
    {
     "name": "stdout",
     "output_type": "stream",
     "text": [
      "Veuillez saisir un nombre positif: 2\n",
      "2 est positif\n"
     ]
    }
   ],
   "source": [
    "\n",
    "n = int(input('Veuillez saisir un nombre positif: '))\n",
    "if n >= 0:\n",
    "    print(n,\"est positif\")\n",
    "else:\n",
    "     print(n,\"negative\")\n",
    "        \n",
    "    #print('le nombre est:',note)\n",
    "    "
   ]
  },
  {
   "cell_type": "code",
   "execution_count": 77,
   "metadata": {},
   "outputs": [
    {
     "name": "stdout",
     "output_type": "stream",
     "text": [
      "0\n",
      "\n",
      "\n",
      "2\n",
      "\n",
      "\n",
      "4\n",
      "\n",
      "\n",
      "6\n",
      "\n",
      "\n",
      "8\n",
      "\n",
      "\n",
      "10\n",
      "\n",
      "\n",
      "12\n",
      "\n",
      "\n",
      "14\n",
      "\n",
      "\n",
      "16\n",
      "\n",
      "\n",
      "18\n",
      "\n",
      "\n",
      "1\n",
      "\n",
      "\n",
      "2\n",
      "\n",
      "\n",
      "3\n",
      "\n",
      "\n",
      "4\n",
      "\n",
      "\n",
      "5\n",
      "\n",
      "\n",
      "0\n",
      "1\n",
      "4\n",
      "9\n",
      "16\n",
      "25\n",
      "36\n",
      "49\n",
      "64\n",
      "81\n",
      "6\n",
      "7\n",
      "8\n",
      "9\n",
      "fin\n",
      "le mot le plus long  dans la liste est: abdourahmane\n"
     ]
    }
   ],
   "source": [
    "#exo1project\n",
    "#1)\n",
    "m=0\n",
    "n=[1,2,3,4,5,6,7,8,9,10]\n",
    "for i in range(len(n)):\n",
    "    m=i*2\n",
    "    print(m ) \n",
    "    print(\"\\n\")\n",
    "#2)\n",
    "liste=[]\n",
    "list=[\"ouly\",\"abdou\",\"waly\",\"mamadou\",\"abdourahmane\"]\n",
    "for i in range(len(list)):\n",
    "    liste.append(list[i])\n",
    "    print(len(liste))\n",
    "    print(\"\\n\")\n",
    "#3)\n",
    "c=[]\n",
    "for i in range(len(n)):\n",
    "    c=i*i\n",
    "    print(c )\n",
    "#4)\n",
    "for i in range(len(n)):\n",
    "    if i>5:\n",
    "        print(i)\n",
    "    \n",
    "print(\"fin\")\n",
    "#5)\n",
    "max=\"\"\n",
    "for i in list:\n",
    "    if len(i)>= len(max):\n",
    "        max=i\n",
    "print(\"le mot le plus long  dans la liste est:\",max)"
   ]
  },
  {
   "cell_type": "code",
   "execution_count": 31,
   "metadata": {},
   "outputs": [
    {
     "name": "stdout",
     "output_type": "stream",
     "text": [
      "[1, 2, 3, 4, 5, 7, 8, 9, 10, 11, 12]\n",
      "saisir un nombre:3\n",
      "le nombre est impaire\n",
      "1 + 2 + 3 + 4 + 5 + 6 + 7 + 8 + 9 +  = 45\n"
     ]
    }
   ],
   "source": [
    "#exo2\n",
    "liste3=[]\n",
    "liste1=[1,2,3,4,5,7]\n",
    "liste2=[8,9,10,11,12]\n",
    "for i in range(len(liste1)):\n",
    "    liste3=liste1+liste2\n",
    "#for i in  range(len(liste2)):\n",
    "    #liste3=liste2\n",
    "print(liste3)\n",
    "#2)\n",
    "a=0\n",
    "a=int(input(\"saisir un nombre:\"))\n",
    "if a%2==0:\n",
    "    print(\"le nombre est  pair\")\n",
    "else:\n",
    "    print(\"le nombre est impaire\")\n",
    "#3)\n",
    "list=[1,2,3,4,5,6,7,8,9]\n",
    "somme=0\n",
    "for i in list:\n",
    "    somme=somme+i\n",
    "    print(i,end=\" + \",)\n",
    "print( end=\" = \")\n",
    "print(somme)\n",
    "#4\n",
    "\n",
    "    \n",
    "  \n",
    "\n",
    "\n",
    "    "
   ]
  },
  {
   "cell_type": "code",
   "execution_count": 32,
   "metadata": {},
   "outputs": [
    {
     "name": "stdout",
     "output_type": "stream",
     "text": [
      "5.5\n",
      "['mamadou', 'moustapha']\n",
      "1.0\n",
      "[9, 8, 7, 6, 5, 4, 3, 2]\n"
     ]
    }
   ],
   "source": [
    "#ex03\n",
    "#1)\n",
    "from statistics import median\n",
    "liste=[2,3,4,5,6,7,8,9]\n",
    "print(median(liste))\n",
    "#2\n",
    "def listecaratere(liste):\n",
    "    return[i for i in liste if len(i)>5]\n",
    "print(listecaratere([\"Ala\", \"LAMA\" ,\"tala\",\"mamadou\",\"moustapha\"]))\n",
    "#3)\n",
    "somme=0\n",
    "for i in liste:\n",
    "    somme=somme+1\n",
    "print(somme/len(liste))\n",
    "#4\n",
    "liste.reverse()\n",
    "print(liste)\n",
    "#5\n",
    "mot=[\"Ala\", \"LeMy\" ,\"tala\",\"midou\",\"momo\"]\n",
    "for i in range(len(mot)) :\n",
    "    if(mot[i]==\"a\"):\n",
    "        print(i)\n"
   ]
  },
  {
   "cell_type": "code",
   "execution_count": 30,
   "metadata": {},
   "outputs": [
    {
     "name": "stdout",
     "output_type": "stream",
     "text": [
      "1\n",
      "8\n",
      "27\n",
      "64\n",
      "125\n",
      "216\n",
      "343\n",
      "512\n",
      "729\n"
     ]
    }
   ],
   "source": [
    "#exo4\n",
    "#1\n",
    "char=[\"a\",\"b\",\"c\",\"d\",\"a\",\"b\",\"a\",\"b\"]\n",
    "valunique= []\n",
    "for i in char:\n",
    "    if i  not in valunique:\n",
    "        valunique.append(i)\n",
    "sorted(valunique)\n",
    "#3\n",
    "nums=[1,2,3,4,5,6,7,8,9]\n",
    "def squared(x):\n",
    "    return x**3\n",
    "squares= map(squared,nums)\n",
    "for i in squares:\n",
    "    print(i)"
   ]
  },
  {
   "cell_type": "code",
   "execution_count": null,
   "metadata": {},
   "outputs": [],
   "source": [
    "\n",
    "#exo completer la frequance des lettre dans un texte francais et un texte anglais\n",
    "#commenter le resultat\n",
    "#installer git et creer uncompte githup"
   ]
  }
 ],
 "metadata": {
  "kernelspec": {
   "display_name": "Python 3",
   "language": "python",
   "name": "python3"
  },
  "language_info": {
   "codemirror_mode": {
    "name": "ipython",
    "version": 3
   },
   "file_extension": ".py",
   "mimetype": "text/x-python",
   "name": "python",
   "nbconvert_exporter": "python",
   "pygments_lexer": "ipython3",
   "version": "3.7.4"
  }
 },
 "nbformat": 4,
 "nbformat_minor": 2
}
